{
 "cells": [
  {
   "cell_type": "markdown",
   "id": "1625bf5c-ba34-4d36-a9df-81b9d02af9c9",
   "metadata": {
    "tags": []
   },
   "source": [
    "## Hardware Specs for ML\n",
    "\n",
    "* Graphic Card\n",
    "    \n",
    "    * -- Premium graphics cards, so things with GTX 980 or 980Ms would be the best for a laptop, and 1080s or 1070s would be the best for the desktop setup.\n",
    "    \n",
    "* Processor\n",
    "* RAM (Memory)\n"
   ]
  },
  {
   "cell_type": "markdown",
   "id": "2223d614-eb3f-4003-a5e7-8f7455d9a25c",
   "metadata": {},
   "source": [
    "### Resources:\n",
    "[A full hardware guide to Deep Learning](https://timdettmers.com/2018/12/16/deep-learning-hardware-guide/#GPU)\n",
    "\n",
    "[Why are GPU well suited for Deep Learning](https://www.quora.com/Why-are-GPUs-well-suited-to-deep-learning/answer/Tim-Dettmers-1)\n",
    "\n",
    "[Benchmarking deep learning workloads with tensorflow on the NVIDIA GeForce RTX 3090](https://www.evolution.ai/post/benchmarking-deep-learning-workloads-with-tensorflow-on-the-nvidia-geforce-rtx-3090)\n",
    "\n",
    "[13 Best GPU for ML in 2021](https://saitechincorporated.com/best-gpus-for-deep-learning/#%E2%AD%90%EF%B8%8F_GPU_For_Deep_Learning)\n",
    "\n",
    "[What is GPU and do we need in Deep Learning](https://towardsdatascience.com/what-is-a-gpu-and-do-you-need-one-in-deep-learning-718b9597aa0d)\n",
    "\n",
    "[Demo of GPU vs CPU](https://www.youtube.com/watch?v=-P28LKWTzrI&t=11s)"
   ]
  },
  {
   "cell_type": "markdown",
   "id": "1297b323-8442-415f-abeb-d140dd8129c0",
   "metadata": {
    "jp-MarkdownHeadingCollapsed": true,
    "tags": []
   },
   "source": [
    "___\n",
    "# Difference between RTX and GTX\n",
    "[Source](https://www.geeksforgeeks.org/gtx-vs-rtx-which-is-better/)\n",
    "\n",
    "### What is GTX?\n",
    "GTX stands for Giga Texel Shader eXtreme and is a variant under the brand GeForce owned by Nvidia. They were first introduced in 2008 with series 200, codenamed Tesla. The first product in this series was GTX 260 and more expensive GTX 280. The introduction of these cards also affected the naming scheme and from the release of these cards onwards, Nvidia GPUs used a naming scheme that has GTX/GT as a prefix followed by their model number. With every other major release in the series, Nvidia changed its microarchitecture on which its cards are based on i.e. series 200 & 300 were based on Tesla architecture, series 400 & 500 were based on Fermi architecture and so on.\n",
    "The latest GTX series 16, consist of GTX 1650, GTX 1660, GTX 1660Ti, and its Super counterparts. These are based on Turing architecture and were introduced in 2019.\n",
    "\n",
    "### What is RTX?\n",
    "RTX stands for Ray Tracing Texel eXtreme and is also a variant under GeForce. The RTX cards were specially designed to support real-time ray tracing which made the video looked more beautiful. They were first announced in 2018 and uses Turing architecture. These RTX cards include RTX 2060, RTX 2070, RTX 2080, RTX 2080Ti, and Super counterparts of 2060 and 2070. These cards support the DXR extension in Microsoft’s DirectX12 and also DLSS (Deep Learning Super Sampling).\n",
    "\n",
    "### Difference between GTX and RTX\n",
    "GeForce is a brand of GPUs designed by Nvidia and under it comes it’s variants like GTX and RTX but before the terms, GTX and RTX were used or existed, terms like GT and GS were popular among GPUs but nowadays they only provide entry-level graphics processing capability and for using more graphics-intensive application you should possess the GTX or RTX cards which are specially designed for graphic-intensive applications like games, graphic engines and much more.\n",
    "The latest entry in the GTX series includes the 16XX series but for the sake of simplification and similarity, we would consider the differences between a GTX 1080Ti (introduced in 2016) and an RTX 2080 (introduced in 2019) as they are quite similar with a little difference.\n",
    "GTX stands for Giga Texel Shader eXtreme and RTX stands for Ray Tracing Texel eXtreme, these are not a simple technology to understand by any means but the most basic difference between the two is that the RTX is specifically designed for performing Real-Time Ray Tracing. In simpler terms, it is used to plot the path of light in a video game as it interacts (reflect or refract) with the surroundings in real-time. It results in more beautiful and stunning looking environments, textures, and materials in the game.\n",
    "\n",
    "As you can see in the picture RTX cards offer incredibly detailed lighting effects and rendering. But better looks does not guarantee better frame rates. And also there are not many games in the market that support ray tracing. So let us look into the differences between the GTX 1080Ti and the RTX 2080."
   ]
  }
 ],
 "metadata": {
  "kernelspec": {
   "display_name": "Python 3 (ipykernel)",
   "language": "python",
   "name": "python3"
  },
  "language_info": {
   "codemirror_mode": {
    "name": "ipython",
    "version": 3
   },
   "file_extension": ".py",
   "mimetype": "text/x-python",
   "name": "python",
   "nbconvert_exporter": "python",
   "pygments_lexer": "ipython3",
   "version": "3.8.10"
  }
 },
 "nbformat": 4,
 "nbformat_minor": 5
}
