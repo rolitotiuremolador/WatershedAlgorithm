{
 "cells": [
  {
   "cell_type": "markdown",
   "id": "bbfc3c58-e09b-46d8-a9b0-9026fa9f743b",
   "metadata": {},
   "source": [
    "[Source](https://docs.opencv.org/4.5.2/d3/db4/tutorial_py_watershed.html)"
   ]
  },
  {
   "cell_type": "code",
   "execution_count": 1,
   "id": "78dce02a-6ac2-47d7-ac70-e27ce7aa079e",
   "metadata": {},
   "outputs": [],
   "source": [
    "import numpy as np\n",
    "import cv2 as cv\n",
    "from matplotlib import pyplot as plt"
   ]
  },
  {
   "cell_type": "code",
   "execution_count": 4,
   "id": "803ddafa-9c3c-4a09-a003-e244c2121eea",
   "metadata": {},
   "outputs": [],
   "source": [
    "img = cv.imread('water_coins.jpg')\n",
    "cv.imshow(\"Original\", img)\n",
    "\n",
    "img_g = cv.cvtColor(img, cv.COLOR_BGR2GRAY)\n",
    "cv.imshow(\"Gray\", img_g)\n",
    "\n",
    "ret, thresh = cv.threshold(img_g, 0, 255, cv.THRESH_BINARY_INV+cv.THRESH_OTSU)\n",
    "cv.imshow(\"Thresh\", thresh)\n",
    "\n",
    "cv.waitKey(0)\n",
    "cv.destroyAllWindows()"
   ]
  },
  {
   "cell_type": "code",
   "execution_count": 5,
   "id": "23e17f5f-cd4a-4c34-9c60-6e286fb93d69",
   "metadata": {},
   "outputs": [],
   "source": [
    "# Noise removal\n",
    "kernel = np.ones((3,3), np.uint8)\n",
    "# cv.imshow(\"Kernel\", kernel)\n",
    "opening = cv.morphologyEx(thresh,cv.MORPH_OPEN,kernel, iterations=2)\n",
    "# cv.imshow(\"Opening\", opening)\n",
    "\n",
    "# sure background area\n",
    "sure_bg = cv.dilate(opening, kernel, iterations=3)\n",
    "\n",
    "# Finding sure foreground area\n",
    "dist_transform = cv.distanceTransform(opening, cv.DIST_L2, 5)\n",
    "ret, sure_fg = cv.threshold(dist_transform,0.7*dist_transform.max(), 255,0)\n",
    "\n",
    "# Finding unknow region\n",
    "sure_fg = np.uint8(sure_fg)\n",
    "unknown = cv.subtract(sure_bg, sure_fg)\n",
    "\n",
    "cv.imshow(\"Unknown\", unknown)\n",
    "\n",
    "ret, thresh = cv.threshold(unknown, 0, 255, cv.THRESH_BINARY_INV+cv.THRESH_OTSU)\n",
    "cv.imshow(\"Thresh\", thresh)\n",
    "\n",
    "\n",
    "cv.waitKey(0)\n",
    "cv.destroyAllWindows()"
   ]
  },
  {
   "cell_type": "code",
   "execution_count": 10,
   "id": "847346d9-0938-439c-9458-a61c309d0029",
   "metadata": {},
   "outputs": [
    {
     "ename": "error",
     "evalue": "OpenCV(4.5.3) /tmp/pip-req-build-xw6jtoah/opencv/modules/highgui/src/precomp.hpp:155: error: (-215:Assertion failed) src_depth != CV_16F && src_depth != CV_32S in function 'convertToShow'\n",
     "output_type": "error",
     "traceback": [
      "\u001b[0;31m---------------------------------------------------------------------------\u001b[0m",
      "\u001b[0;31merror\u001b[0m                                     Traceback (most recent call last)",
      "\u001b[0;32m/tmp/ipykernel_16066/3142158482.py\u001b[0m in \u001b[0;36m<module>\u001b[0;34m\u001b[0m\n\u001b[1;32m     12\u001b[0m \u001b[0mimg\u001b[0m\u001b[0;34m[\u001b[0m\u001b[0mmarkers\u001b[0m \u001b[0;34m==\u001b[0m \u001b[0;34m-\u001b[0m\u001b[0;36m1\u001b[0m\u001b[0;34m]\u001b[0m \u001b[0;34m=\u001b[0m \u001b[0;34m[\u001b[0m\u001b[0;36m255\u001b[0m\u001b[0;34m,\u001b[0m\u001b[0;36m0\u001b[0m\u001b[0;34m,\u001b[0m\u001b[0;36m0\u001b[0m\u001b[0;34m]\u001b[0m\u001b[0;34m\u001b[0m\u001b[0;34m\u001b[0m\u001b[0m\n\u001b[1;32m     13\u001b[0m \u001b[0;34m\u001b[0m\u001b[0m\n\u001b[0;32m---> 14\u001b[0;31m \u001b[0mcv\u001b[0m\u001b[0;34m.\u001b[0m\u001b[0mimshow\u001b[0m\u001b[0;34m(\u001b[0m\u001b[0;34m\"Marker Image\"\u001b[0m\u001b[0;34m,\u001b[0m \u001b[0mmarkers\u001b[0m\u001b[0;34m)\u001b[0m\u001b[0;34m\u001b[0m\u001b[0;34m\u001b[0m\u001b[0m\n\u001b[0m\u001b[1;32m     15\u001b[0m \u001b[0mcv\u001b[0m\u001b[0;34m.\u001b[0m\u001b[0mimshow\u001b[0m\u001b[0;34m(\u001b[0m\u001b[0;34m\"Result\"\u001b[0m\u001b[0;34m,\u001b[0m \u001b[0mimg\u001b[0m\u001b[0;34m)\u001b[0m\u001b[0;34m\u001b[0m\u001b[0;34m\u001b[0m\u001b[0m\n\u001b[1;32m     16\u001b[0m \u001b[0;34m\u001b[0m\u001b[0m\n",
      "\u001b[0;31merror\u001b[0m: OpenCV(4.5.3) /tmp/pip-req-build-xw6jtoah/opencv/modules/highgui/src/precomp.hpp:155: error: (-215:Assertion failed) src_depth != CV_16F && src_depth != CV_32S in function 'convertToShow'\n"
     ]
    }
   ],
   "source": [
    "# Marker Labelling\n",
    "ret, markers = cv.connectedComponents(sure_fg)\n",
    "# cv.imshow(\"Makers\", markers)\n",
    "\n",
    "# Add one to all labels so that sure background is not 0, but 1\n",
    "markers = markers+1\n",
    "\n",
    "# Now mark the region of unknown with zero\n",
    "markers[unknown==255]=0\n",
    "\n",
    "markers = cv.watershed(img, markers)\n",
    "img[markers == -1] = [255,0,0]\n",
    "\n",
    "cv.imshow(\"Result\", img)\n",
    "\n",
    "cv.waitKey(0)\n",
    "cv.destroyAllWindows()"
   ]
  },
  {
   "cell_type": "code",
   "execution_count": null,
   "id": "14317d3e-c830-4340-a89e-09cc3e965cbb",
   "metadata": {},
   "outputs": [],
   "source": []
  },
  {
   "cell_type": "markdown",
   "id": "1a31d670-38ce-4061-a2b0-6bded9d61b95",
   "metadata": {},
   "source": [
    "## The problem with basic thresholding and contour extraction\n",
    "[Source](https://www.pyimagesearch.com/2015/11/02/watershed-opencv/)"
   ]
  },
  {
   "cell_type": "code",
   "execution_count": null,
   "id": "28cb159a-0ee9-4dcd-91cc-286a1e2b1e11",
   "metadata": {},
   "outputs": [],
   "source": [
    "# import the necessary packages\n",
    "from __future__ import print_function\n",
    "from skimage.feature import peak_local_max\n",
    "from skimage.morphology import watershed\n",
    "from scipy import ndimage\n",
    "import argparse\n",
    "import imutils\n",
    "import cv2"
   ]
  },
  {
   "cell_type": "code",
   "execution_count": null,
   "id": "c21c7a7b-2600-472e-9778-722f58756084",
   "metadata": {},
   "outputs": [],
   "source": [
    "# construct the argument parse and parse the arguments\n",
    "ap = argparse.ArgumentParser()\n",
    "ap.add_argument(\"-i\", \"--image\", required=True,\n",
    "\thelp=\"path to input image\")\n",
    "args = vars(ap.parse_args())"
   ]
  }
 ],
 "metadata": {
  "kernelspec": {
   "display_name": "Python 3 (ipykernel)",
   "language": "python",
   "name": "python3"
  },
  "language_info": {
   "codemirror_mode": {
    "name": "ipython",
    "version": 3
   },
   "file_extension": ".py",
   "mimetype": "text/x-python",
   "name": "python",
   "nbconvert_exporter": "python",
   "pygments_lexer": "ipython3",
   "version": "3.8.10"
  }
 },
 "nbformat": 4,
 "nbformat_minor": 5
}
