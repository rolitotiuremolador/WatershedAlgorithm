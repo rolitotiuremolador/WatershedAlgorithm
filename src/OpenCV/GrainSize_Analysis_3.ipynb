{
 "cells": [
  {
   "cell_type": "markdown",
   "id": "e940a742-cedc-4535-b5d8-f550da9fc974",
   "metadata": {},
   "source": [
    "# 33 Grain size analysis in Python using watershed\n",
    "[Source 33](https://www.youtube.com/watch?v=WyQ-3Fjay7A)\n",
    "\n",
    "[Source 34](https://www.youtube.com/watch?v=e69JGAtA5gA)"
   ]
  },
  {
   "cell_type": "code",
   "execution_count": null,
   "id": "4d2117d2-22b2-4bb4-884c-2c9fadf00e3e",
   "metadata": {},
   "outputs": [],
   "source": []
  }
 ],
 "metadata": {
  "kernelspec": {
   "display_name": "Python 3 (ipykernel)",
   "language": "python",
   "name": "python3"
  },
  "language_info": {
   "codemirror_mode": {
    "name": "ipython",
    "version": 3
   },
   "file_extension": ".py",
   "mimetype": "text/x-python",
   "name": "python",
   "nbconvert_exporter": "python",
   "pygments_lexer": "ipython3",
   "version": "3.8.10"
  }
 },
 "nbformat": 4,
 "nbformat_minor": 5
}
