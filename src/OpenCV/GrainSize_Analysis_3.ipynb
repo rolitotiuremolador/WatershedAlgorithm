{
 "cells": [
  {
   "cell_type": "markdown",
   "id": "e940a742-cedc-4535-b5d8-f550da9fc974",
   "metadata": {},
   "source": [
    "# 33 Grain size analysis in Python using watershed\n",
    "[Source 33](https://www.youtube.com/watch?v=WyQ-3Fjay7A)\n",
    "\n",
    "[Source 34](https://www.youtube.com/watch?v=e69JGAtA5gA)"
   ]
  },
  {
   "cell_type": "code",
   "execution_count": 2,
   "id": "4d2117d2-22b2-4bb4-884c-2c9fadf00e3e",
   "metadata": {},
   "outputs": [],
   "source": [
    "import cv2 as cv\n",
    "import numpy as np\n",
    "from matplotlib import pyplot as plt\n",
    "from scipy import ndimage\n",
    "from skimage import measure, io, color"
   ]
  },
  {
   "cell_type": "code",
   "execution_count": 3,
   "id": "51fc2d9c-f6c7-413b-ad28-c9f4fbf80a59",
   "metadata": {},
   "outputs": [],
   "source": [
    "img = cv.imread(\"thinsection_image1.jpeg\")\n",
    "img_g = cv.cvtColor(img, cv.COLOR_BGR2GRAY)\n",
    "\n",
    "cv.imshow(\"Original\", img)\n",
    "cv.imshow(\"Gray\", img_g)\n",
    "\n",
    "\n",
    "cv.waitKey(0)\n",
    "cv.destroyAllWindows()"
   ]
  },
  {
   "cell_type": "code",
   "execution_count": 4,
   "id": "7d63900a-323b-4a51-b5e8-5d289e488b21",
   "metadata": {},
   "outputs": [],
   "source": [
    "ret, thresh = cv.threshold(img_g, 0, 255, cv.THRESH_BINARY + cv.THRESH_OTSU)\n",
    "\n",
    "cv.imshow(\"Thresh\", thresh)\n",
    "\n",
    "cv.waitKey(0)\n",
    "cv.destroyAllWindows()"
   ]
  },
  {
   "cell_type": "code",
   "execution_count": 5,
   "id": "0ebb1f9a-9267-4096-89e6-4356ac71f7d4",
   "metadata": {},
   "outputs": [],
   "source": [
    "kernel = np.ones((3,3), np.uint8)\n",
    "eroded = cv.erode(thresh, kernel, iterations=1)\n",
    "dilated = cv.dilate(eroded, kernel, iterations=1)\n",
    "\n",
    "cv.imshow(\"Eroded\", eroded)\n",
    "cv.imshow(\"Dilated\", dilated)\n",
    "\n",
    "cv.waitKey(0)\n",
    "cv.destroyAllWindows()"
   ]
  },
  {
   "cell_type": "code",
   "execution_count": 13,
   "id": "b6b706dd-0d8c-4e61-a2b5-ab13764e3d07",
   "metadata": {},
   "outputs": [],
   "source": []
  }
 ],
 "metadata": {
  "kernelspec": {
   "display_name": "Python 3 (ipykernel)",
   "language": "python",
   "name": "python3"
  },
  "language_info": {
   "codemirror_mode": {
    "name": "ipython",
    "version": 3
   },
   "file_extension": ".py",
   "mimetype": "text/x-python",
   "name": "python",
   "nbconvert_exporter": "python",
   "pygments_lexer": "ipython3",
   "version": "3.8.10"
  }
 },
 "nbformat": 4,
 "nbformat_minor": 5
}
