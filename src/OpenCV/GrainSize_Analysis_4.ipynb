{
 "cells": [
  {
   "cell_type": "markdown",
   "id": "e940a742-cedc-4535-b5d8-f550da9fc974",
   "metadata": {},
   "source": [
    "*# 34 Grain size analysis in Python using watershed\n",
    "[Source 34](https://www.youtube.com/watch?v=e69JGAtA5gA)"
   ]
  },
  {
   "cell_type": "code",
   "execution_count": 2,
   "id": "4d2117d2-22b2-4bb4-884c-2c9fadf00e3e",
   "metadata": {},
   "outputs": [],
   "source": [
    "import cv2 as cv\n",
    "import numpy as np\n",
    "from matplotlib import pyplot as plt\n",
    "from scipy import ndimage\n",
    "from skimage import measure, io, color"
   ]
  },
  {
   "cell_type": "code",
   "execution_count": 3,
   "id": "d19208ed-75b5-464c-8d90-153166c93e1c",
   "metadata": {},
   "outputs": [],
   "source": [
    "img = cv.imread(\"thinsection_image1.jpeg\")\n",
    "\n",
    "cv.imshow(\"Original\", img)\n",
    "\n",
    "\n",
    "cv.waitKey(0)\n",
    "cv.destroyAllWindows()"
   ]
  }
 ],
 "metadata": {
  "kernelspec": {
   "display_name": "Python 3 (ipykernel)",
   "language": "python",
   "name": "python3"
  },
  "language_info": {
   "codemirror_mode": {
    "name": "ipython",
    "version": 3
   },
   "file_extension": ".py",
   "mimetype": "text/x-python",
   "name": "python",
   "nbconvert_exporter": "python",
   "pygments_lexer": "ipython3",
   "version": "3.8.10"
  }
 },
 "nbformat": 4,
 "nbformat_minor": 5
}
