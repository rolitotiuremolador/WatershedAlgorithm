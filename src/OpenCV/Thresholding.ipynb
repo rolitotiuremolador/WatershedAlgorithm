{
 "cells": [
  {
   "cell_type": "markdown",
   "id": "3d583440-f4f7-4102-a732-d8936e7ef7d8",
   "metadata": {},
   "source": [
    "## The Gradient Image\n",
    "[SOURCE](https://docs.opencv.org/4.5.1/d7/d4d/tutorial_py_thresholding.html)"
   ]
  },
  {
   "cell_type": "code",
   "execution_count": 20,
   "id": "542ac013-d5ac-46a5-9b6f-e18506ed5a33",
   "metadata": {},
   "outputs": [],
   "source": [
    "import cv2 as cv\n",
    "import numpy as np\n",
    "from matplotlib import pyplot as plt\n",
    "\n",
    "img = cv.imread(\"gradient.jpeg\")\n",
    "img_g = cv.cvtColor(img, cv.COLOR_BGR2GRAY)\n",
    "\n",
    "ret, thresh1 = cv.threshold(img_g,127,255, cv.THRESH_BINARY)\n",
    "ret, thresh2 = cv.threshold(img_g,127,255, cv.THRESH_BINARY_INV)\n",
    "ret, thresh3 = cv.threshold(img_g,127,255, cv.THRESH_TRUNC)\n",
    "ret, thresh4 = cv.threshold(img_g,127,255, cv.THRESH_BINARY)\n",
    "ret, thresh5 = cv.threshold(img_g,127,255, cv.THRESH_BINARY)\n",
    "\n",
    "\n",
    "# cv.imshow(\"Original\",img)\n",
    "cv.imshow(\"Gray\", img_g)\n",
    "cv.imshow(\"ThreshBinary\", thresh1)\n",
    "\n",
    "cv.waitKey(0)\n",
    "cv.destroyAllWindows()"
   ]
  },
  {
   "cell_type": "markdown",
   "id": "c4b8bf45-0a94-4f67-87bc-c420cf2c93b4",
   "metadata": {},
   "source": [
    "___\n",
    "## THE APPLE IMAGE\n",
    "\n",
    "[SOURCE](https://docs.opencv.org/3.4.12/db/d8e/tutorial_threshold.html)"
   ]
  },
  {
   "cell_type": "code",
   "execution_count": 9,
   "id": "762c13e6-ab42-40a9-afac-cdf76c7da037",
   "metadata": {},
   "outputs": [],
   "source": [
    "def rescaleImg(frame, scale=0.50):\n",
    "    width = int(frame.shape[1] * scale)\n",
    "    height = int(frame.shape[0] * scale)\n",
    "    dimensions = (width, height)\n",
    "    return cv.resize(frame, dimensions, interpolation=cv.INTER_AREA)"
   ]
  },
  {
   "cell_type": "code",
   "execution_count": 14,
   "id": "38e9bba4-5482-4ebe-bac0-0818cc0442b8",
   "metadata": {},
   "outputs": [
    {
     "name": "stdout",
     "output_type": "stream",
     "text": [
      "300 300 3\n"
     ]
    }
   ],
   "source": [
    "img = cv.imread(\"apple_600x600.jpg\")\n",
    "r_img = rescaleImg(img)\n",
    "g_img = cv.cvtColor(r_img, cv.COLOR_RGB2GRAY)\n",
    "\n",
    "cv.imshow(\"Rescaled Image 50%\", r_img)\n",
    "cv.imshow(\"Gray Image\", g_img)\n",
    "cv.imshow(\"200x200\", res)\n",
    "\n",
    "cv.waitKey(0)\n",
    "cv.destroyAllWindows()"
   ]
  }
 ],
 "metadata": {
  "kernelspec": {
   "display_name": "Python 3 (ipykernel)",
   "language": "python",
   "name": "python3"
  },
  "language_info": {
   "codemirror_mode": {
    "name": "ipython",
    "version": 3
   },
   "file_extension": ".py",
   "mimetype": "text/x-python",
   "name": "python",
   "nbconvert_exporter": "python",
   "pygments_lexer": "ipython3",
   "version": "3.8.10"
  }
 },
 "nbformat": 4,
 "nbformat_minor": 5
}
