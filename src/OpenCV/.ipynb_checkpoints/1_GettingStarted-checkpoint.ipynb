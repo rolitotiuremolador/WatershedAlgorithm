{
 "cells": [
  {
   "cell_type": "markdown",
   "id": "b58e7159-050a-4109-8a42-8b6985895f25",
   "metadata": {},
   "source": [
    "___\n",
    "## Introduction to OpenCV - Lear the foundation\n",
    "\n",
    "* [Source](https://docs.opencv.org/4.5.2/db/deb/tutorial_display_image.html)\n",
    "* [Source Youtube](https://www.youtube.com/watch?v=oXlwWbU8l2o)\n",
    "___"
   ]
  },
  {
   "cell_type": "markdown",
   "id": "707e921d-6f11-48ce-990a-bd7720afc925",
   "metadata": {},
   "source": [
    "### Reading and showing images and video"
   ]
  },
  {
   "cell_type": "code",
   "execution_count": null,
   "id": "6d772e37-cf6e-433b-a633-18b6e80a5051",
   "metadata": {
    "jupyter": {
     "source_hidden": true
    },
    "tags": []
   },
   "outputs": [],
   "source": [
    "# Reading and displaying and image\n",
    "import cv2 as cv\n",
    "img = cv.imread(\"water_coins.jpg\")\n",
    "cv.imshow(\"Image\", img)\n",
    "\n",
    "cv.waitKey(0)\n",
    "cv.destroyAllWindows()"
   ]
  },
  {
   "cell_type": "code",
   "execution_count": null,
   "id": "e4f73229-dce6-4d5c-85f0-c9519a31901f",
   "metadata": {
    "jupyter": {
     "source_hidden": true
    },
    "tags": []
   },
   "outputs": [],
   "source": [
    "# Reading videos and playing it\n",
    "import cv2 as cv\n",
    "capture = cv.VideoCapture(\"dog.mp4\")\n",
    "\n",
    "while True:\n",
    "    isTrue, frame = capture.read()\n",
    "    cv.imshow('Dog', frame)\n",
    "    \n",
    "    if cv.waitKey(20) & 0xFF==ord('d'):\n",
    "        break\n",
    "        \n",
    "capture.release()\n",
    "cv.destroyAllWindows()\n"
   ]
  },
  {
   "cell_type": "markdown",
   "id": "bfc483b7-c8fb-4f45-a417-8e8433c8779f",
   "metadata": {},
   "source": [
    "### Rescaling Images and Videos"
   ]
  },
  {
   "cell_type": "code",
   "execution_count": null,
   "id": "cc6b7436-f0ab-43d9-8f30-1ed2abf501de",
   "metadata": {
    "jupyter": {
     "source_hidden": true
    },
    "tags": []
   },
   "outputs": [],
   "source": [
    "# Rescale a video\n",
    "import cv2 as cv\n",
    "\n",
    "# Function to rescale the frame size (NOTE: Can be used for Images, Videos, and Live Video)\n",
    "def rescaleFrame(frame, scale=0.75):\n",
    "    width = int(frame.shape[1] * scale)\n",
    "    height = int(frame.shape[0] * scale)\n",
    "    dimensions = (width, height)\n",
    "    return cv.resize(frame, dimensions, interpolation=cv.INTER_AREA)\n",
    "\n",
    "# Function to change resolution (NOTE: Only for live video/capture/frame)\n",
    "def changeRes(width, height):\n",
    "    capture.set(3, width)\n",
    "    capture.set(4, height)\n",
    "\n",
    "\n",
    "# Reading videos and use the create function\n",
    "capture = cv.VideoCapture('dog.mp4')\n",
    "while True:\n",
    "    isTrue, frame = capture.read()\n",
    "    frame_resized = rescaleFrame(frame, scale=.2)\n",
    "    cv.imshow('Dog', frame)\n",
    "    cv.imshow('Dog Resized', frame_resized)\n",
    "    if cv.waitKey(20) & 0xFF==ord('d'):\n",
    "        break\n",
    "        \n",
    "capture.release()\n",
    "cv.destroyAllWindows()"
   ]
  },
  {
   "cell_type": "code",
   "execution_count": null,
   "id": "9f2210fe-44e9-4940-9ed1-740c006d0ad6",
   "metadata": {
    "jupyter": {
     "source_hidden": true
    },
    "tags": []
   },
   "outputs": [],
   "source": [
    "# Rescale image\n",
    "\n",
    "def rescaleImg(frame, scale=0.50):\n",
    "    width = int(frame.shape[1] * scale)\n",
    "    height = int(frame.shape[0] * scale)\n",
    "    dimensions = (width, height)\n",
    "    return cv.resize(frame, dimensions, interpolation=cv.INTER_AREA)\n",
    "\n",
    "img = cv.imread('water_coins.jpg')\n",
    "r_img = rescaleImg(img)\n",
    "cv.imshow('Coins', img)\n",
    "cv.imshow('Rescal Coins', r_img)\n",
    "\n",
    "cv.waitKey(0)\n",
    "cv.destroyAllWindows()"
   ]
  },
  {
   "cell_type": "markdown",
   "id": "8d013fec-8cd8-45ee-a2ef-69d1cbcbd5fb",
   "metadata": {
    "tags": []
   },
   "source": [
    "### Drawing Shapes and Putting Text"
   ]
  },
  {
   "cell_type": "code",
   "execution_count": null,
   "id": "c4ccda0a-0283-40a8-ba48-2edf5d71d005",
   "metadata": {
    "jupyter": {
     "source_hidden": true
    },
    "tags": []
   },
   "outputs": [],
   "source": [
    "import cv2 as cv\n",
    "import numpy as np\n",
    "\n",
    "# Draw a blank image\n",
    "blank = np.zeros((500,500,3), dtype='uint8')\n",
    "cv.imshow('Blank', blank)\n",
    "\n",
    "# Paint image with a color\n",
    "# blank[:] = 0,254,201\n",
    "# blank[200:300,300:400] = 0,0,255 #color a range of pixels\n",
    "# cv.imshow(\"Red\", blank)\n",
    "\n",
    "# Draw a rectangle\n",
    "# cv.rectangle(blank, (0,0), (250,250), (0,250,0), thickness=cv.FILLED) # Try cv.FILLED, or -1 in the thickness parameter\n",
    "# cv.rectangle(blank, (0,0), (blank.shape[1]//2, blank.shape[0]//2), (0,255,0), thickness=-1)\n",
    "# cv.imshow(\"Rectangle\", blank)\n",
    "\n",
    "# Draw a circle\n",
    "# cv.circle(blank, (blank.shape[1]//2, blank.shape[0]//2), 40, (0,0,255), thickness=2)\n",
    "# cv.imshow(\"Circle\", blank)\n",
    "\n",
    "# # Draw a line\n",
    "# cv.line(blank, (0,0),(blank.shape[1]//2, blank.shape[0]//2), (255,255,255), thickness=3)\n",
    "# cv.imshow(\"Line\", blank)\n",
    "\n",
    "# Write a text\n",
    "cv.putText(blank, 'Hello', (255,255), cv.FONT_HERSHEY_TRIPLEX, 1.0, (0,255,0), 2)\n",
    "cv.imshow(\"Text on image\", blank)\n",
    "\n",
    "cv.waitKey(0)\n",
    "cv.destroyAllWindows()"
   ]
  },
  {
   "cell_type": "markdown",
   "id": "82d0c806-7c18-47ef-a3e1-deb0b51ff3ea",
   "metadata": {
    "tags": []
   },
   "source": [
    "### 5 Essentials Function in OpenCV for Computer Vision - 34:00\n",
    "\n",
    "*Convert to grayscale, Blur, Edge Cascades (Canny), Dilating image, Eroding, Resize, Cropping*"
   ]
  },
  {
   "cell_type": "code",
   "execution_count": 13,
   "id": "6a7df109-a848-4a98-a675-fc4d1b626dc5",
   "metadata": {
    "jupyter": {
     "source_hidden": true
    },
    "tags": []
   },
   "outputs": [],
   "source": [
    "import cv2 as cv\n",
    "\n",
    "img = cv.imread('coins1.jpeg')\n",
    "cv.imshow('Original',img)\n",
    "\n",
    "# Convert image into grayscale\n",
    "img_g = cv.cvtColor(img, cv.COLOR_BGR2GRAY)\n",
    "cv.imshow(\"Gray\", img_g)\n",
    "\n",
    "# Blur\n",
    "# img_b = cv.GaussianBlur(img, (7,7), cv.BORDER_DEFAULT)\n",
    "# cv.imshow(\"Blur\", img_b)\n",
    "\n",
    "# # Edge Cascade\n",
    "# img_canny = cv.Canny(img,125, 175)\n",
    "# cv.imshow(\"Canny\", img_canny)\n",
    "\n",
    "# # Dilating the image\n",
    "# img_d = cv.dilate(img_canny, (3,3), iterations=2)\n",
    "# cv.imshow(\"Dilated\", img_d)\n",
    "\n",
    "# # Eroding \n",
    "# img_e = cv.erode(img_d, (7,7), iterations=3)\n",
    "# cv.imshow(\"Eroded\", img_e)\n",
    "\n",
    "# Resize \n",
    "img_r = cv.resize(img, (200,150), interpolation=cv.INTER_AREA) # use INTER_LINEAR or INTER_CUBIC when enlarging image for resize\n",
    "cv.imshow(\"Resized\", img_r)\n",
    "\n",
    "# Cropping\n",
    "img_c = img[10:50, 50:80]\n",
    "cv.imshow(\"Cropped\", img_c)              \n",
    "\n",
    "\n",
    "cv.waitKey(0)\n",
    "cv.destroyAllWindows()"
   ]
  },
  {
   "cell_type": "markdown",
   "id": "56560b40-9d89-40ca-87bd-118cbc7406fb",
   "metadata": {},
   "source": [
    "### Image Transformation 44:15\n",
    "\n",
    "*Translation,*"
   ]
  },
  {
   "cell_type": "markdown",
   "id": "b8fef647-cc99-44cf-bf9b-44269fa3149b",
   "metadata": {},
   "source": [
    "### Contour Detections 57:07\n",
    "\n",
    "*Contour and Edges are 2 different things*"
   ]
  },
  {
   "cell_type": "code",
   "execution_count": 21,
   "id": "d62c3e62-0433-4d3b-a6e0-68a0db46ea94",
   "metadata": {},
   "outputs": [
    {
     "name": "stdout",
     "output_type": "stream",
     "text": [
      "1137 contour(s) found!\n"
     ]
    }
   ],
   "source": [
    "import cv2 as cv\n",
    "\n",
    "img = cv.imread(\"coins1.jpeg\")\n",
    "cv.imshow(\"Original\", img)\n",
    "\n",
    "img_g = cv.cvtColor(img, cv.COLOR_BGR2GRAY)\n",
    "cv.imshow(\"Gray\", img_g)\n",
    "\n",
    "# img_b = cv.GaussianBlur(img_g, (5,5), cv.BORDER_DEFAULT)\n",
    "# cv.imshow(\"Blur\", img_b)\n",
    "\n",
    "# img_c = cv.Canny(img_b, 125, 175)\n",
    "# cv.imshow(\"Edges\", img_c)\n",
    "\n",
    "# Instead of using Canny function to detect and find edges or contour, it can be done using thres..\n",
    "ret, thresh = cv.threshold(img_g, 125, 255, cv.THRESH_BINARY)\n",
    "cv.imshow(\"Thresh\", thresh)\n",
    "\n",
    "contours, hierarchies = cv.findContours(thresh, cv.RETR_LIST, cv.CHAIN_APPROX_SIMPLE)\n",
    "print(f'{len(contours)} contour(s) found!')\n",
    "\n",
    "\n",
    "\n",
    "cv.waitKey(0)\n",
    "cv.destroyAllWindows()"
   ]
  }
 ],
 "metadata": {
  "kernelspec": {
   "display_name": "Python 3 (ipykernel)",
   "language": "python",
   "name": "python3"
  },
  "language_info": {
   "codemirror_mode": {
    "name": "ipython",
    "version": 3
   },
   "file_extension": ".py",
   "mimetype": "text/x-python",
   "name": "python",
   "nbconvert_exporter": "python",
   "pygments_lexer": "ipython3",
   "version": "3.8.10"
  }
 },
 "nbformat": 4,
 "nbformat_minor": 5
}
