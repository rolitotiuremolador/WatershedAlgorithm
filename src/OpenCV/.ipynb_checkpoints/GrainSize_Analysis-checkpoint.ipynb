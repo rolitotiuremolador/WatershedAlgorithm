{
 "cells": [
  {
   "cell_type": "markdown",
   "id": "d5a0b481-1a8e-4210-a60b-f3571c89bb89",
   "metadata": {},
   "source": [
    "[SOURCE](https://www.youtube.com/watch?v=g3OZJ6skE_U)"
   ]
  },
  {
   "cell_type": "code",
   "execution_count": 1,
   "id": "1987fec0-5c86-4069-9b45-f3c938d2a9f8",
   "metadata": {},
   "outputs": [],
   "source": [
    "import cv2 as cv\n",
    "import numpy as np\n",
    "from matplotlib import pyplot as plt\n",
    "from scipy import ndimage\n",
    "from skimage import io, color, measure"
   ]
  },
  {
   "cell_type": "code",
   "execution_count": 4,
   "id": "18a52a6e-2513-48d4-8892-068532aba415",
   "metadata": {},
   "outputs": [],
   "source": [
    "# Step1 \n",
    "\n",
    "imgp = r'thinsection_image1.jpeg'\n",
    "img = cv.imread(imgp)\n",
    "img_g = cv.imread(imgp, 0)\n",
    "# img_g = cv.imread(img, 0)\n",
    "# cv.imshow(\"Original\", img)\n",
    "cv.imshow(\"Gray\", img_g)\n",
    "pixel_to_micro = 0.5  #\n",
    "\n",
    "# Step 2\n",
    "# plt.hist(img_g.flat, bins=100, range=(0,255))\n",
    "ret, thresh = cv.threshold(img_g, 0, 255, cv.THRESH_BINARY+cv.THRESH_OTSU)\n",
    "\n",
    "cv.imshow(\"Threshold\", thresh)\n",
    "\n",
    "cv.waitKey(0)\n",
    "cv.destroyAllWindows()"
   ]
  }
 ],
 "metadata": {
  "kernelspec": {
   "display_name": "Python 3 (ipykernel)",
   "language": "python",
   "name": "python3"
  },
  "language_info": {
   "codemirror_mode": {
    "name": "ipython",
    "version": 3
   },
   "file_extension": ".py",
   "mimetype": "text/x-python",
   "name": "python",
   "nbconvert_exporter": "python",
   "pygments_lexer": "ipython3",
   "version": "3.8.10"
  }
 },
 "nbformat": 4,
 "nbformat_minor": 5
}
