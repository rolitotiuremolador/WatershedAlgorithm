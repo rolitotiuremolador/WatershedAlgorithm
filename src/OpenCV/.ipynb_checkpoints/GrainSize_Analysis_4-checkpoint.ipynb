{
 "cells": [
  {
   "cell_type": "markdown",
   "id": "e940a742-cedc-4535-b5d8-f550da9fc974",
   "metadata": {},
   "source": [
    "# 33 Grain size analysis in Python using watershed\n",
    "[Source 33](https://www.youtube.com/watch?v=WyQ-3Fjay7A)\n",
    "\n",
    "[Source 34](https://www.youtube.com/watch?v=e69JGAtA5gA)"
   ]
  },
  {
   "cell_type": "code",
   "execution_count": 1,
   "id": "4d2117d2-22b2-4bb4-884c-2c9fadf00e3e",
   "metadata": {},
   "outputs": [],
   "source": [
    "import cv2 as cv\n",
    "import numpy as np\n",
    "from matplotlib import pyplot as plt\n",
    "from scipy import ndimage\n",
    "from skimage import measure, io, color"
   ]
  },
  {
   "cell_type": "code",
   "execution_count": 2,
   "id": "51fc2d9c-f6c7-413b-ad28-c9f4fbf80a59",
   "metadata": {},
   "outputs": [],
   "source": [
    "img = cv.imread(\"thinsection_image2.jpg\")\n",
    "img_g = cv.cvtColor(img, cv.COLOR_BGR2GRAY)\n",
    "\n",
    "pixels_to_um = 0.5\n",
    "\n",
    "cv.imshow(\"Original\", img)\n",
    "cv.imshow(\"Gray\", img_g)\n",
    "\n",
    "cv.waitKey(0)\n",
    "cv.destroyAllWindows()"
   ]
  },
  {
   "cell_type": "code",
   "execution_count": 3,
   "id": "7d63900a-323b-4a51-b5e8-5d289e488b21",
   "metadata": {},
   "outputs": [],
   "source": [
    "ret, thresh = cv.threshold(img_g, 0, 255, cv.THRESH_BINARY + cv.THRESH_OTSU)\n",
    "\n",
    "cv.imshow(\"Thresh\", thresh)\n",
    "\n",
    "cv.waitKey(0)\n",
    "cv.destroyAllWindows()"
   ]
  },
  {
   "cell_type": "code",
   "execution_count": 5,
   "id": "0ebb1f9a-9267-4096-89e6-4356ac71f7d4",
   "metadata": {},
   "outputs": [],
   "source": [
    "kernel = np.ones((3,3), np.uint8)\n",
    "opening = cv.morphologyEx(thresh, cv.MORPH_OPEN, kernel, iterations=1)\n",
    "\n",
    "sure_bg = cv.dilate(opening, kernel, iterations = 1)\n",
    "dist_transform = cv.distanceTransform(opening, cv.DIST_L2, 3)\n",
    "ret2, sure_fg = cv.threshold(dist_transform, 0.2*dist_transform.max(), 255, 0)\n",
    "sure_fg = np.uint8(sure_fg)\n",
    "\n",
    "unknown = cv.subtract(sure_bg, sure_fg)\n",
    "\n",
    "\n",
    "# eroded = cv.erode(thresh, kernel, iterations=1)\n",
    "# dilated = cv.dilate(eroded, kernel, iterations=1)\n",
    "# cv.imshow(\"Eroded\", eroded)\n",
    "# cv.imshow(\"Dilated\", dilated)\n",
    "\n",
    "# cv.imshow(\"Gray\", img_g)\n",
    "# cv.imshow(\"Thresh\", thresh)\n",
    "# cv.imshow(\"Opening\", opening)\n",
    "cv.imshow(\"Sure Background\", sure_bg)\n",
    "# cv.imshow(\"Dist Trans\", dist_transform)\n",
    "cv.imshow(\"Sure FG\", sure_fg)\n",
    "cv.imshow(\"Unknown\", unknown)\n",
    "\n",
    "\n",
    "cv.waitKey(0)\n",
    "cv.destroyAllWindows()"
   ]
  },
  {
   "cell_type": "code",
   "execution_count": 21,
   "id": "b6b706dd-0d8c-4e61-a2b5-ab13764e3d07",
   "metadata": {},
   "outputs": [],
   "source": [
    "# Now that we have identified background, foreground and unknown regions, we'll do put some markers\n",
    "ret3, markers = cv.connectedComponents(sure_fg)\n",
    "markers = markers+10\n",
    "\n",
    "markers[unknown==255] = 0\n",
    "# plt.imshow(markers, cmap='jet')\n",
    "\n",
    "markers = cv.watershed(img, markers)\n",
    "\n",
    "img[markers==-1] = [0, 0, 255]\n",
    "img1 = color.label2rgb(markers, bg_label=0)\n",
    "\n",
    "cv.imshow(\"Overlay original image\", img)\n",
    "cv.imshow(\"Colored grains\", img1)\n",
    "\n",
    "cv.waitKey(0)\n",
    "cv.destroyAllWindows()"
   ]
  },
  {
   "cell_type": "code",
   "execution_count": 26,
   "id": "4ffa6235-9c4e-4b63-a4a7-edfdcd028b03",
   "metadata": {},
   "outputs": [],
   "source": [
    "# Save the properties of the grain\n",
    "from skimage import measure, io, color\n",
    "\n",
    "regions = measure.regionprops(markers, intensity_image=img)\n",
    "propList = ['Area', \n",
    "            'equivalent_diameter',\n",
    "            'orientation',\n",
    "            'MajorAxisLength',\n",
    "            'MinorAxisLength',\n",
    "            'Perimeter',\n",
    "            'MinIntensity',\n",
    "            'MeanIntensity',\n",
    "            'MaxIntensity']\n",
    "\n",
    "output_file = open('w_image_measurements.csv', 'w')\n",
    "output_file.write(('Grain #' + \",\" + \",\" + \",\".join(propList) + '\\n'))\n",
    "\n",
    "grain_number = 1\n",
    "for region_prop in regions:\n",
    "    output_file.write(str(grain_number) + ',')\n",
    "    #output the cluster properties to the excel file\n",
    "    for i, prop in enumerate(propList):\n",
    "        if(prop == 'Area'):\n",
    "            to_print = region_prop[prop]*pixels_to_um**2\n",
    "        elif(prop == 'orientation'):\n",
    "            to_print = region_props[prop]*57.2958 #Convert radians to degrees\n",
    "        elif(prop.find('Intensity') < 0):\n",
    "            to_print = region_prop[prop]*pixels_to_um\n",
    "        else:\n",
    "            to_print = region_prop[prop] #remaining prop, basically the ones with intensity\n",
    "        output_file.write(',' + str(to_print))\n",
    "    output_file.write('\\n')\n",
    "    grain_number += 1\n",
    "    \n",
    "output_file.close()"
   ]
  },
  {
   "cell_type": "code",
   "execution_count": null,
   "id": "6dbdda1d-f472-417e-b4c5-9d6b5ec05c24",
   "metadata": {},
   "outputs": [],
   "source": []
  }
 ],
 "metadata": {
  "kernelspec": {
   "display_name": "Python 3 (ipykernel)",
   "language": "python",
   "name": "python3"
  },
  "language_info": {
   "codemirror_mode": {
    "name": "ipython",
    "version": 3
   },
   "file_extension": ".py",
   "mimetype": "text/x-python",
   "name": "python",
   "nbconvert_exporter": "python",
   "pygments_lexer": "ipython3",
   "version": "3.8.10"
  }
 },
 "nbformat": 4,
 "nbformat_minor": 5
}
