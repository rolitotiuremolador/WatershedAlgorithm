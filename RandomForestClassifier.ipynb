{
  "nbformat": 4,
  "nbformat_minor": 0,
  "metadata": {
    "colab": {
      "name": "RandomForestClassifier",
      "provenance": [],
      "collapsed_sections": [],
      "authorship_tag": "ABX9TyOabCDZ9MKvAMY6aD4NCpgV",
      "include_colab_link": true
    },
    "kernelspec": {
      "name": "python3",
      "display_name": "Python 3"
    },
    "language_info": {
      "name": "python"
    }
  },
  "cells": [
    {
      "cell_type": "markdown",
      "metadata": {
        "id": "view-in-github",
        "colab_type": "text"
      },
      "source": [
        "<a href=\"https://colab.research.google.com/github/rolitotiuremolador/WatershedAlgorithm/blob/master/RandomForestClassifier.ipynb\" target=\"_parent\"><img src=\"https://colab.research.google.com/assets/colab-badge.svg\" alt=\"Open In Colab\"/></a>"
      ]
    },
    {
      "cell_type": "markdown",
      "source": [
        "### Random Forest Classifier\n",
        "[Source](https://www.youtube.com/watch?v=eM4uJ6XGnSM)"
      ],
      "metadata": {
        "id": "KNDr2E1pGyyq"
      }
    },
    {
      "cell_type": "code",
      "execution_count": null,
      "metadata": {
        "id": "qt5MHq1uGmFM"
      },
      "outputs": [],
      "source": [
        "# Organize Data\n",
        "import pandas as pd\n",
        "import numpy as np\n",
        "from sklearn.datasets import load_iris\n",
        "\n",
        "np.random.seed(0)\n",
        "iris = load_iris()\n",
        "df = pd.DataFrame(iris.data, columns = iris.feature_names)\n",
        "df.head()\n",
        "\n",
        "df['species'] = pd.Categorical.from_codes(iris.target, iris.target_names)\n",
        "df.head()"
      ]
    },
    {
      "cell_type": "code",
      "source": [
        "# Create Train and Test\n",
        "\n",
        "#Split data for training and test data \n",
        "df['is_train'] = np.random.uniform(0,1,len(df)) <= .75\n",
        "df.head()\n",
        "\n",
        "# Create data frames with test rows and training rows\n",
        "train, test = df[df['is_train']==True], df[df['is_train']==False]\n",
        "# View the number of instance/rows for train and test\n",
        "# len(train), len(test)\n",
        "# train.head()\n",
        "\n",
        "# Create a list of the first 4 column names\n",
        "features = df.columns[:4]\n",
        "# View the features\n",
        "features\n",
        "\n",
        "# Converting each species name into digits\n",
        "y = pd.factorize(train['species'])[0]\n",
        "# Viewing target\n",
        "y"
      ],
      "metadata": {
        "id": "L4M9zsNTHEen"
      },
      "execution_count": null,
      "outputs": []
    },
    {
      "cell_type": "code",
      "source": [
        "# Create a random forest classifier\n",
        "from sklearn.ensemble import RandomForestClassifier\n",
        "clf = RandomForestClassifier(n_jobs=2, random_state=0)\n",
        "# Training the classifier\n",
        "clf.fit(train[features], y)"
      ],
      "metadata": {
        "id": "N7REXOV1HRzf"
      },
      "execution_count": null,
      "outputs": []
    },
    {
      "cell_type": "code",
      "source": [
        "# Make prediction\n",
        "# Using or applying the trained Classifier to the test\n",
        "test_features = test[features]\n",
        "clf.predict(test_features)\n",
        "\n",
        "# Viewing the predicted probabilities of the first 10 observations\n",
        "clf.predict_proba(test_features)[15:25]\n",
        "\n",
        "# Mapping names for the plants for each predicted plant class\n",
        "preds = iris.target_names[clf.predict(test_features)]\n",
        "\n",
        "# Viewing the predicted species for the first N observation\n",
        "preds[17:32]\n",
        "\n",
        "# Viewing the ACTUAL species for the first five observations\n",
        "test['species'].tail(15)\n",
        "# len(test)\n",
        "\n",
        "# Create a confustion matrix\n",
        "pd.crosstab(test['species'], preds, rownames=['Actual Species'], colnames=['Predicted Species'])\n",
        "\n",
        "# Predict on new data\n",
        "preds = iris.target_names[clf.predict([[13,13,3,3],[45,0.2,0.5,45]])]\n",
        "preds"
      ],
      "metadata": {
        "id": "X5dhGu33HjRv"
      },
      "execution_count": null,
      "outputs": []
    },
    {
      "cell_type": "markdown",
      "source": [
        "#### 5. Visualize data (Plotting) [Source](https://machinelearningmastery.com/a-guide-to-getting-datasets-for-machine-learning-in-python/)"
      ],
      "metadata": {
        "id": "RUn9Mw3eH68N"
      }
    },
    {
      "cell_type": "code",
      "source": [
        "import matplotlib.pyplot as plt\n",
        "import seaborn as sns\n",
        "\n",
        "data, target = load_iris(return_X_y=True, as_frame=True)\n",
        "data['target'] = target\n",
        "# data.head()\n",
        "\n",
        "# Visualize Data\n",
        "sns.pairplot(data, kind=\"scatter\", diag_kind=\"kde\", hue=\"target\", palette=\"muted\", plot_kws={'alpha':0.7})\n",
        "plt.show()"
      ],
      "metadata": {
        "id": "UUxTGjN9H--S"
      },
      "execution_count": null,
      "outputs": []
    }
  ]
}